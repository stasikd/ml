{
 "cells": [
  {
   "cell_type": "code",
   "execution_count": 1,
   "id": "c7fc66a6",
   "metadata": {
    "executionInfo": {
     "elapsed": 1998,
     "status": "ok",
     "timestamp": 1671132433753,
     "user": {
      "displayName": "Станислав Демидов",
      "userId": "00398676290972506703"
     },
     "user_tz": -180
    },
    "id": "c7fc66a6"
   },
   "outputs": [],
   "source": [
    "from sklearn.base import BaseEstimator\n",
    "from sklearn.tree import DecisionTreeRegressor\n",
    "from sklearn.model_selection import cross_val_score\n",
    "from sklearn.metrics import mean_squared_error\n",
    "from sklearn import datasets\n",
    "import numpy as np\n",
    "import pandas as pd"
   ]
  },
  {
   "cell_type": "code",
   "execution_count": 2,
   "id": "c1dcfc95",
   "metadata": {
    "executionInfo": {
     "elapsed": 8,
     "status": "ok",
     "timestamp": 1671132433753,
     "user": {
      "displayName": "Станислав Демидов",
      "userId": "00398676290972506703"
     },
     "user_tz": -180
    },
    "id": "c1dcfc95"
   },
   "outputs": [],
   "source": [
    "TREE_PARAMS_DICT = {\n",
    "    'max_depth': 2,\n",
    "    'min_samples_split': 0.5,\n",
    "    'criterion': 'squared_error'\n",
    "}\n",
    "\n",
    "TAU = 0.05"
   ]
  },
  {
   "cell_type": "code",
   "execution_count": 3,
   "id": "24bbb89b",
   "metadata": {
    "executionInfo": {
     "elapsed": 8,
     "status": "ok",
     "timestamp": 1671132433754,
     "user": {
      "displayName": "Станислав Демидов",
      "userId": "00398676290972506703"
     },
     "user_tz": -180
    },
    "id": "24bbb89b"
   },
   "outputs": [],
   "source": [
    "class SimpleGB(BaseEstimator):\n",
    "    def __init__(self, tree_params_dict, iters, tau):\n",
    "        self.tree_params_dict = tree_params_dict\n",
    "        self.iters = iters\n",
    "        self.tau = tau\n",
    "        self.estimators = []\n",
    "\n",
    "    def mse_grad(self, y_true, y_pred):\n",
    "        return (y_true - y_pred)\n",
    "        \n",
    "        \n",
    "    def fit(self, X_data, y_data):\n",
    "        self.base_algo = DecisionTreeRegressor(**self.tree_params_dict)\n",
    "        self.base_algo.fit(X_data, y_data)\n",
    "        curr_pred = self.base_algo.predict(X_data)\n",
    "        for iter_num in range(self.iters):\n",
    "            grad = self.mse_grad(y_data, curr_pred)\n",
    "            algo = DecisionTreeRegressor(**self.tree_params_dict)\n",
    "            algo.fit(X_data, grad)\n",
    "            self.estimators.append(algo)\n",
    "            curr_pred += self.tau * algo.predict(X_data)\n",
    "        return self\n",
    "    \n",
    "    def predict(self, X_data):\n",
    "        res = self.base_algo.predict(X_data)\n",
    "        for estimator in self.estimators:\n",
    "            res += self.tau * estimator.predict(X_data)\n",
    "        return res"
   ]
  },
  {
   "cell_type": "markdown",
   "id": "ad83efa8",
   "metadata": {
    "id": "ad83efa8"
   },
   "source": [
    "Подгрузим данные."
   ]
  },
  {
   "cell_type": "code",
   "execution_count": 4,
   "id": "3f9a5ed9",
   "metadata": {
    "colab": {
     "base_uri": "https://localhost:8080/"
    },
    "executionInfo": {
     "elapsed": 7,
     "status": "ok",
     "timestamp": 1671132433754,
     "user": {
      "displayName": "Станислав Демидов",
      "userId": "00398676290972506703"
     },
     "user_tz": -180
    },
    "id": "3f9a5ed9",
    "outputId": "848397b3-03de-4d5d-cbc9-59092caa1a66",
    "scrolled": true,
    "tags": []
   },
   "outputs": [
    {
     "name": "stderr",
     "output_type": "stream",
     "text": [
      "/usr/local/lib/python3.8/dist-packages/sklearn/utils/deprecation.py:87: FutureWarning: Function load_boston is deprecated; `load_boston` is deprecated in 1.0 and will be removed in 1.2.\n",
      "\n",
      "    The Boston housing prices dataset has an ethical problem. You can refer to\n",
      "    the documentation of this function for further details.\n",
      "\n",
      "    The scikit-learn maintainers therefore strongly discourage the use of this\n",
      "    dataset unless the purpose of the code is to study and educate about\n",
      "    ethical issues in data science and machine learning.\n",
      "\n",
      "    In this special case, you can fetch the dataset from the original\n",
      "    source::\n",
      "\n",
      "        import pandas as pd\n",
      "        import numpy as np\n",
      "\n",
      "\n",
      "        data_url = \"http://lib.stat.cmu.edu/datasets/boston\"\n",
      "        raw_df = pd.read_csv(data_url, sep=\"\\s+\", skiprows=22, header=None)\n",
      "        data = np.hstack([raw_df.values[::2, :], raw_df.values[1::2, :2]])\n",
      "        target = raw_df.values[1::2, 2]\n",
      "\n",
      "    Alternative datasets include the California housing dataset (i.e.\n",
      "    :func:`~sklearn.datasets.fetch_california_housing`) and the Ames housing\n",
      "    dataset. You can load the datasets as follows::\n",
      "\n",
      "        from sklearn.datasets import fetch_california_housing\n",
      "        housing = fetch_california_housing()\n",
      "\n",
      "    for the California housing dataset and::\n",
      "\n",
      "        from sklearn.datasets import fetch_openml\n",
      "        housing = fetch_openml(name=\"house_prices\", as_frame=True)\n",
      "\n",
      "    for the Ames housing dataset.\n",
      "    \n",
      "  warnings.warn(msg, category=FutureWarning)\n"
     ]
    }
   ],
   "source": [
    "boston = datasets.load_boston()"
   ]
  },
  {
   "cell_type": "code",
   "execution_count": 5,
   "id": "6d2cc26b",
   "metadata": {
    "executionInfo": {
     "elapsed": 5,
     "status": "ok",
     "timestamp": 1671132433754,
     "user": {
      "displayName": "Станислав Демидов",
      "userId": "00398676290972506703"
     },
     "user_tz": -180
    },
    "id": "6d2cc26b"
   },
   "outputs": [],
   "source": [
    "data = boston['data']\n",
    "target = boston['target']"
   ]
  },
  {
   "cell_type": "code",
   "execution_count": 6,
   "id": "09aafed1",
   "metadata": {
    "executionInfo": {
     "elapsed": 6,
     "status": "ok",
     "timestamp": 1671132433755,
     "user": {
      "displayName": "Станислав Демидов",
      "userId": "00398676290972506703"
     },
     "user_tz": -180
    },
    "id": "09aafed1"
   },
   "outputs": [],
   "source": [
    "from sklearn.ensemble import GradientBoostingRegressor"
   ]
  },
  {
   "cell_type": "code",
   "execution_count": 7,
   "id": "da7e6c44",
   "metadata": {
    "executionInfo": {
     "elapsed": 5,
     "status": "ok",
     "timestamp": 1671132433755,
     "user": {
      "displayName": "Станислав Демидов",
      "userId": "00398676290972506703"
     },
     "user_tz": -180
    },
    "id": "da7e6c44"
   },
   "outputs": [],
   "source": [
    "gbr = GradientBoostingRegressor(max_depth=3, random_state=42)"
   ]
  },
  {
   "cell_type": "markdown",
   "id": "126be60d",
   "metadata": {
    "id": "126be60d"
   },
   "source": [
    "Качество реализации GBR из sklearn."
   ]
  },
  {
   "cell_type": "code",
   "execution_count": 8,
   "id": "08acf2e1",
   "metadata": {
    "colab": {
     "base_uri": "https://localhost:8080/"
    },
    "executionInfo": {
     "elapsed": 444,
     "status": "ok",
     "timestamp": 1671132434194,
     "user": {
      "displayName": "Станислав Демидов",
      "userId": "00398676290972506703"
     },
     "user_tz": -180
    },
    "id": "08acf2e1",
    "outputId": "90713117-88a6-4a6f-ed71-f96e08ec348e"
   },
   "outputs": [
    {
     "data": {
      "text/plain": [
       "-27.641784915305465"
      ]
     },
     "execution_count": 8,
     "metadata": {},
     "output_type": "execute_result"
    }
   ],
   "source": [
    "sklearn_score = np.mean(cross_val_score(gbr, data, target, cv=3, scoring='neg_mean_squared_error'))\n",
    "sklearn_score"
   ]
  },
  {
   "cell_type": "code",
   "execution_count": 9,
   "id": "ddcd8f90",
   "metadata": {
    "executionInfo": {
     "elapsed": 2,
     "status": "ok",
     "timestamp": 1671132434194,
     "user": {
      "displayName": "Станислав Демидов",
      "userId": "00398676290972506703"
     },
     "user_tz": -180
    },
    "id": "ddcd8f90"
   },
   "outputs": [],
   "source": [
    "algo = SimpleGB(tree_params_dict=TREE_PARAMS_DICT, iters=700, tau=TAU)"
   ]
  },
  {
   "cell_type": "code",
   "execution_count": 10,
   "id": "49c8bc37",
   "metadata": {
    "colab": {
     "base_uri": "https://localhost:8080/"
    },
    "executionInfo": {
     "elapsed": 3454,
     "status": "ok",
     "timestamp": 1671132437647,
     "user": {
      "displayName": "Станислав Демидов",
      "userId": "00398676290972506703"
     },
     "user_tz": -180
    },
    "id": "49c8bc37",
    "outputId": "70bf50bf-ed46-437b-c0fd-b66e98dc6cab"
   },
   "outputs": [
    {
     "data": {
      "text/plain": [
       "-28.871627384203265"
      ]
     },
     "execution_count": 10,
     "metadata": {},
     "output_type": "execute_result"
    }
   ],
   "source": [
    "my_score = np.mean(cross_val_score(algo, data, target, cv=3, scoring='neg_mean_squared_error'))\n",
    "my_score"
   ]
  },
  {
   "cell_type": "code",
   "execution_count": 11,
   "id": "887cdd5b-d035-412e-8c09-f38c048ee1b3",
   "metadata": {
    "colab": {
     "base_uri": "https://localhost:8080/"
    },
    "executionInfo": {
     "elapsed": 6,
     "status": "ok",
     "timestamp": 1671132437647,
     "user": {
      "displayName": "Станислав Демидов",
      "userId": "00398676290972506703"
     },
     "user_tz": -180
    },
    "id": "887cdd5b-d035-412e-8c09-f38c048ee1b3",
    "outputId": "0fea6361-7303-4616-f38f-a5ab55fc0072"
   },
   "outputs": [
    {
     "data": {
      "text/plain": [
       "-0.04449215101940929"
      ]
     },
     "execution_count": 11,
     "metadata": {},
     "output_type": "execute_result"
    }
   ],
   "source": [
    "(sklearn_score - my_score) / sklearn_score"
   ]
  },
  {
   "cell_type": "code",
   "execution_count": 11,
   "id": "23d37689-caae-4c10-9ace-c962c1ade6e5",
   "metadata": {
    "executionInfo": {
     "elapsed": 5,
     "status": "ok",
     "timestamp": 1671132437648,
     "user": {
      "displayName": "Станислав Демидов",
      "userId": "00398676290972506703"
     },
     "user_tz": -180
    },
    "id": "23d37689-caae-4c10-9ace-c962c1ade6e5"
   },
   "outputs": [],
   "source": []
  }
 ],
 "metadata": {
  "colab": {
   "provenance": []
  },
  "kernelspec": {
   "display_name": "Python 3 (ipykernel)",
   "language": "python",
   "name": "python3"
  },
  "language_info": {
   "codemirror_mode": {
    "name": "ipython",
    "version": 3
   },
   "file_extension": ".py",
   "mimetype": "text/x-python",
   "name": "python",
   "nbconvert_exporter": "python",
   "pygments_lexer": "ipython3",
   "version": "3.9.13"
  }
 },
 "nbformat": 4,
 "nbformat_minor": 5
}
