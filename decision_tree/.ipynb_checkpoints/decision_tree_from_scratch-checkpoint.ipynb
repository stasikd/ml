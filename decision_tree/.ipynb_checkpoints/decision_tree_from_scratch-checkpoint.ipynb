{
 "cells": [
  {
   "cell_type": "code",
   "execution_count": 18,
   "metadata": {
    "executionInfo": {
     "elapsed": 545,
     "status": "ok",
     "timestamp": 1638112694931,
     "user": {
      "displayName": "Марк Станиславович Потанин",
      "photoUrl": "https://lh3.googleusercontent.com/a-/AOh14GiGIbSWvn36SnuS11JITt7whCW2414zYLPAFnl9=s64",
      "userId": "12338896257196299013"
     },
     "user_tz": -180
    },
    "id": "s4IvUDpZEIjI"
   },
   "outputs": [],
   "source": [
    "from sklearn import datasets\n",
    "from sklearn.metrics import mean_squared_error\n",
    "from sklearn.model_selection import train_test_split\n",
    "import numpy as np\n",
    "from sklearn.tree import DecisionTreeRegressor"
   ]
  },
  {
   "cell_type": "markdown",
   "metadata": {},
   "source": [
    "source - https://habr.com/ru/company/vk/blog/438560/"
   ]
  },
  {
   "cell_type": "code",
   "execution_count": 9,
   "metadata": {
    "executionInfo": {
     "elapsed": 232,
     "status": "ok",
     "timestamp": 1638111791884,
     "user": {
      "displayName": "Марк Станиславович Потанин",
      "photoUrl": "https://lh3.googleusercontent.com/a-/AOh14GiGIbSWvn36SnuS11JITt7whCW2414zYLPAFnl9=s64",
      "userId": "12338896257196299013"
     },
     "user_tz": -180
    },
    "id": "6M-fQeT3EbFg"
   },
   "outputs": [],
   "source": [
    "class RegressionTree():\n",
    "    \n",
    "    '''\n",
    "    Класс RegressionTree решает задачу регрессии. Основан на рекурсивных\n",
    "    вызовах, когда прописываются условия выхода из рекурсии. \n",
    "    '''\n",
    "    \n",
    "    def __init__(self, max_depth=3, n_epoch=10, min_size=8):\n",
    "        \n",
    "        '''\n",
    "        Объявляем переменные класса.\n",
    "        '''\n",
    "        \n",
    "        self.max_depth = max_depth # максимальная глубина\n",
    "        self.min_size = min_size # минимальный размер поддерева\n",
    "        self.value = 0 # значение в поддереве (среднее по всем листьям)\n",
    "        self.feature_idx = -1 # номер лучшего признака\n",
    "        self.feature_threshold = 0 # значение лучшего признака\n",
    "        self.left = None # левый потомок\n",
    "        self.right = None # правый потомок\n",
    "        \n",
    "    def fit(self, X, y):\n",
    "        \n",
    "        '''\n",
    "        Процедура обучения дерева. На выходе получим обученную модель.\n",
    "        '''\n",
    "        \n",
    "        # инициализируем начальные значения\n",
    "        self.value = y.mean()\n",
    "        base_error = ((y - self.value) ** 2).sum()\n",
    "        error = base_error\n",
    "        flag = 0\n",
    "        \n",
    "        # ошибки в левом и правом поддереве\n",
    "        prev_error_left = base_error\n",
    "        prev_error_right = 0\n",
    "        \n",
    "        # если дошли до глубины 0 - выходим\n",
    "        if self.max_depth <= 1:\n",
    "            return\n",
    "    \n",
    "        dim_shape = X.shape[1]\n",
    "        \n",
    "        # значения в левом и правом поддереве\n",
    "        left_value = 0\n",
    "        right_value = 0\n",
    "        \n",
    "        # начинаем цикл по признакам\n",
    "        for feat in range(dim_shape):\n",
    "            \n",
    "            # сортируем признаки\n",
    "            idxs = np.argsort(X[:, feat])\n",
    "            \n",
    "            # количество сэмплов в левом и правом поддереве\n",
    "            N = X.shape[0]\n",
    "            N1, N2 = N, 0\n",
    "            thres = 1\n",
    "            \n",
    "            # начинаем проходиться по значениям признака\n",
    "            while thres < N - 1:\n",
    "                N1 -= 1\n",
    "                N2 += 1\n",
    "                \n",
    "                idx = idxs[thres]\n",
    "                x = X[idx, feat]\n",
    "                \n",
    "                # пропускаем одинаковые признаки\n",
    "                if thres < N - 1 and x == X[idxs[thres + 1], feat]:\n",
    "\n",
    "                    thres += 1\n",
    "                    continue\n",
    "                \n",
    "                # данные, которые получаются у нас в результате такого сплита\n",
    "                target_right = y[idxs][:thres]\n",
    "                target_left = y[idxs][thres:]\n",
    "                mean_right = y[idxs][:thres].mean(), \n",
    "                mean_left = y[idxs][thres:].mean()\n",
    "                \n",
    "                # на этом шаге уже нужно считать ошибку - \n",
    "                # генерируем предикты (среднее в потомках)\n",
    "                left_shape = target_left.shape[0]\n",
    "                right_shape = target_right.shape[0]\n",
    "                mean_left_array = [mean_left for _ in range(left_shape)]\n",
    "                mean_right_array = [mean_right for _ in range(right_shape)]\n",
    "                \n",
    "                # считаем ошибку слева и справа\n",
    "                prev_error_left = N1/N * mean_squared_error(target_left, mean_left_array) \n",
    "                prev_error_right = N2/N * mean_squared_error(target_right, mean_right_array)\n",
    "                \n",
    "                # если выполняются условия сплита, то обновляем\n",
    "                if (prev_error_left + prev_error_right < error):\n",
    "                        if (min(N1,N2) > self.min_size):\n",
    "                            self.feature_idx = feat\n",
    "                            self.feature_threshold = x\n",
    "                            left_value = mean_left\n",
    "                            right_value = mean_right\n",
    "\n",
    "                            flag = 1\n",
    "                            error = prev_error_left + prev_error_right\n",
    "                                     \n",
    "                thres += 1\n",
    "        \n",
    "        # если не нашли лучший сплит, выходим\n",
    "        if self.feature_idx == -1:\n",
    "            return\n",
    "        \n",
    "        # дошли сюда - есть хорошее разбиение, нужно обучать дальше\n",
    "        # инициализируем потомков - те же деревья решений\n",
    "        self.left = RegressionTree(self.max_depth - 1)\n",
    "        self.left.value = left_value\n",
    "        self.right = RegressionTree(self.max_depth - 1)\n",
    "        self.right.value = right_value\n",
    "        \n",
    "        # индексы потомков\n",
    "        idxs_l = (X[:, self.feature_idx] > self.feature_threshold)\n",
    "        idxs_r = (X[:, self.feature_idx] <= self.feature_threshold)\n",
    "        \n",
    "        # обучаем\n",
    "        self.left.fit(X[idxs_l, :], y[idxs_l])\n",
    "        self.right.fit(X[idxs_r, :], y[idxs_r])\n",
    "        \n",
    "    def __predict(self, x):\n",
    "        \n",
    "        '''\n",
    "        Функция для генерирования предсказания - смотрим узлы, идем \n",
    "        в соответствующих  потомков и смотрим в конце self.value - это\n",
    "        и будет ответом.\n",
    "        '''\n",
    "        \n",
    "        if self.feature_idx == -1:\n",
    "            return self.value\n",
    "        \n",
    "        if x[self.feature_idx] > self.feature_threshold:\n",
    "            return self.left.__predict(x)\n",
    "        else:\n",
    "            return self.right.__predict(x)\n",
    "        \n",
    "    def predict(self, X):\n",
    "        \n",
    "        '''\n",
    "        Предикт для матрицы - просто для каждой строчки вызываем __predict().\n",
    "        '''\n",
    "        \n",
    "        y = np.zeros(X.shape[0])\n",
    "        \n",
    "        for i in range(X.shape[0]):\n",
    "            y[i] = self.__predict(X[i])\n",
    "            \n",
    "        return y"
   ]
  },
  {
   "cell_type": "code",
   "execution_count": 10,
   "metadata": {
    "executionInfo": {
     "elapsed": 3,
     "status": "ok",
     "timestamp": 1638111792947,
     "user": {
      "displayName": "Марк Станиславович Потанин",
      "photoUrl": "https://lh3.googleusercontent.com/a-/AOh14GiGIbSWvn36SnuS11JITt7whCW2414zYLPAFnl9=s64",
      "userId": "12338896257196299013"
     },
     "user_tz": -180
    },
    "id": "s5MjIStlEL5Q"
   },
   "outputs": [],
   "source": [
    "data = datasets.fetch_california_housing()\n",
    "X = np.array(data.data)\n",
    "y = np.array(data.target)"
   ]
  },
  {
   "cell_type": "code",
   "execution_count": 13,
   "metadata": {
    "colab": {
     "base_uri": "https://localhost:8080/"
    },
    "executionInfo": {
     "elapsed": 294,
     "status": "ok",
     "timestamp": 1638111908228,
     "user": {
      "displayName": "Марк Станиславович Потанин",
      "photoUrl": "https://lh3.googleusercontent.com/a-/AOh14GiGIbSWvn36SnuS11JITt7whCW2414zYLPAFnl9=s64",
      "userId": "12338896257196299013"
     },
     "user_tz": -180
    },
    "id": "GX3tiaeVFASL",
    "outputId": "31bf8fed-6311-481a-808a-c32b21ed9ba7"
   },
   "outputs": [
    {
     "data": {
      "text/plain": [
       "(20640, 8)"
      ]
     },
     "execution_count": 13,
     "metadata": {},
     "output_type": "execute_result"
    }
   ],
   "source": [
    "X.shape"
   ]
  },
  {
   "cell_type": "code",
   "execution_count": 14,
   "metadata": {
    "executionInfo": {
     "elapsed": 288,
     "status": "ok",
     "timestamp": 1638111913478,
     "user": {
      "displayName": "Марк Станиславович Потанин",
      "photoUrl": "https://lh3.googleusercontent.com/a-/AOh14GiGIbSWvn36SnuS11JITt7whCW2414zYLPAFnl9=s64",
      "userId": "12338896257196299013"
     },
     "user_tz": -180
    },
    "id": "naRsnAisE4JB"
   },
   "outputs": [],
   "source": [
    "X_train,X_test,y_train,y_test = train_test_split(X,y)"
   ]
  },
  {
   "cell_type": "code",
   "execution_count": 16,
   "metadata": {
    "colab": {
     "base_uri": "https://localhost:8080/"
    },
    "executionInfo": {
     "elapsed": 516305,
     "status": "ok",
     "timestamp": 1638112484596,
     "user": {
      "displayName": "Марк Станиславович Потанин",
      "photoUrl": "https://lh3.googleusercontent.com/a-/AOh14GiGIbSWvn36SnuS11JITt7whCW2414zYLPAFnl9=s64",
      "userId": "12338896257196299013"
     },
     "user_tz": -180
    },
    "id": "6d1OcWKQEPWV",
    "outputId": "0bf10985-4660-405d-f526-7c66e827069e"
   },
   "outputs": [
    {
     "name": "stdout",
     "output_type": "stream",
     "text": [
      "CPU times: user 8min 35s, sys: 1.55 s, total: 8min 36s\n",
      "Wall time: 8min 36s\n"
     ]
    }
   ],
   "source": [
    "%%time\n",
    "A = RegressionTree(2) # это наш алгоритм\n",
    "A.fit(X_train,y_train)"
   ]
  },
  {
   "cell_type": "code",
   "execution_count": 20,
   "metadata": {
    "executionInfo": {
     "elapsed": 290,
     "status": "ok",
     "timestamp": 1638112710592,
     "user": {
      "displayName": "Марк Станиславович Потанин",
      "photoUrl": "https://lh3.googleusercontent.com/a-/AOh14GiGIbSWvn36SnuS11JITt7whCW2414zYLPAFnl9=s64",
      "userId": "12338896257196299013"
     },
     "user_tz": -180
    },
    "id": "SbEu5FPoEWIA"
   },
   "outputs": [],
   "source": [
    "test_mytree = A.predict(X_test)"
   ]
  },
  {
   "cell_type": "code",
   "execution_count": 22,
   "metadata": {
    "colab": {
     "base_uri": "https://localhost:8080/"
    },
    "executionInfo": {
     "elapsed": 219,
     "status": "ok",
     "timestamp": 1638112736481,
     "user": {
      "displayName": "Марк Станиславович Потанин",
      "photoUrl": "https://lh3.googleusercontent.com/a-/AOh14GiGIbSWvn36SnuS11JITt7whCW2414zYLPAFnl9=s64",
      "userId": "12338896257196299013"
     },
     "user_tz": -180
    },
    "id": "MrFTEZB1IFX2",
    "outputId": "c7ced960-6b6b-4964-95f5-ed25dc3fc08b"
   },
   "outputs": [
    {
     "data": {
      "text/plain": [
       "0.923193339634721"
      ]
     },
     "execution_count": 22,
     "metadata": {},
     "output_type": "execute_result"
    }
   ],
   "source": [
    "mean_squared_error(y_test,test_mytree)"
   ]
  },
  {
   "cell_type": "code",
   "execution_count": 19,
   "metadata": {
    "colab": {
     "base_uri": "https://localhost:8080/"
    },
    "executionInfo": {
     "elapsed": 240,
     "status": "ok",
     "timestamp": 1638112699573,
     "user": {
      "displayName": "Марк Станиславович Потанин",
      "photoUrl": "https://lh3.googleusercontent.com/a-/AOh14GiGIbSWvn36SnuS11JITt7whCW2414zYLPAFnl9=s64",
      "userId": "12338896257196299013"
     },
     "user_tz": -180
    },
    "id": "YNy7j0MIFLa8",
    "outputId": "c47bc22b-ff7f-4a4c-cd5f-e9b57c9acef6"
   },
   "outputs": [
    {
     "name": "stdout",
     "output_type": "stream",
     "text": [
      "CPU times: user 32.1 ms, sys: 0 ns, total: 32.1 ms\n",
      "Wall time: 33 ms\n"
     ]
    }
   ],
   "source": [
    "%%time\n",
    "model = DecisionTreeRegressor(max_depth=2)\n",
    " # из Sklearn\n",
    "model.fit(X,y)"
   ]
  },
  {
   "cell_type": "code",
   "execution_count": 24,
   "metadata": {
    "executionInfo": {
     "elapsed": 219,
     "status": "ok",
     "timestamp": 1638112758069,
     "user": {
      "displayName": "Марк Станиславович Потанин",
      "photoUrl": "https://lh3.googleusercontent.com/a-/AOh14GiGIbSWvn36SnuS11JITt7whCW2414zYLPAFnl9=s64",
      "userId": "12338896257196299013"
     },
     "user_tz": -180
    },
    "id": "plyRDXL1FLew"
   },
   "outputs": [],
   "source": [
    "model_test = model.predict(X_test)"
   ]
  },
  {
   "cell_type": "code",
   "execution_count": 25,
   "metadata": {
    "colab": {
     "base_uri": "https://localhost:8080/"
    },
    "executionInfo": {
     "elapsed": 223,
     "status": "ok",
     "timestamp": 1638112765735,
     "user": {
      "displayName": "Марк Станиславович Потанин",
      "photoUrl": "https://lh3.googleusercontent.com/a-/AOh14GiGIbSWvn36SnuS11JITt7whCW2414zYLPAFnl9=s64",
      "userId": "12338896257196299013"
     },
     "user_tz": -180
    },
    "id": "wx00voQ-IOX5",
    "outputId": "a0e1c78c-2553-4f4e-d25f-c1bc311c8a5c"
   },
   "outputs": [
    {
     "data": {
      "text/plain": [
       "0.7450876680154896"
      ]
     },
     "execution_count": 25,
     "metadata": {},
     "output_type": "execute_result"
    }
   ],
   "source": [
    "mean_squared_error(y_test,model_test)"
   ]
  },
  {
   "cell_type": "code",
   "execution_count": 28,
   "metadata": {
    "colab": {
     "base_uri": "https://localhost:8080/"
    },
    "executionInfo": {
     "elapsed": 3,
     "status": "ok",
     "timestamp": 1638112790242,
     "user": {
      "displayName": "Марк Станиславович Потанин",
      "photoUrl": "https://lh3.googleusercontent.com/a-/AOh14GiGIbSWvn36SnuS11JITt7whCW2414zYLPAFnl9=s64",
      "userId": "12338896257196299013"
     },
     "user_tz": -180
    },
    "id": "B6zuDVbUISMA",
    "outputId": "ddfa16a0-0e8f-4e74-9cf4-f8ccd1ec41ed"
   },
   "outputs": [
    {
     "data": {
      "text/plain": [
       "2.068558169089147"
      ]
     },
     "execution_count": 28,
     "metadata": {},
     "output_type": "execute_result"
    }
   ],
   "source": [
    "np.mean(y)"
   ]
  }
 ],
 "metadata": {
  "colab": {
   "authorship_tag": "ABX9TyOC/sjBIprKFrk7Wv3nY8aX",
   "name": "regression_tree.ipynb",
   "provenance": []
  },
  "kernelspec": {
   "display_name": "Python 3 (ipykernel)",
   "language": "python",
   "name": "python3"
  },
  "language_info": {
   "codemirror_mode": {
    "name": "ipython",
    "version": 3
   },
   "file_extension": ".py",
   "mimetype": "text/x-python",
   "name": "python",
   "nbconvert_exporter": "python",
   "pygments_lexer": "ipython3",
   "version": "3.8.9"
  }
 },
 "nbformat": 4,
 "nbformat_minor": 1
}
