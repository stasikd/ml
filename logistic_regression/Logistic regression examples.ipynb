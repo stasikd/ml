{
 "cells": [
  {
   "cell_type": "code",
   "execution_count": 1,
   "id": "256ffa12-6b02-43d7-9b12-04f5fbebfa9b",
   "metadata": {},
   "outputs": [],
   "source": [
    "from sklearn.datasets import load_digits\n",
    "import matplotlib.pyplot as plt\n",
    "from sklearn.linear_model import LogisticRegression\n",
    "import numpy as np \n",
    "from sklearn.model_selection import train_test_split\n",
    "import time"
   ]
  },
  {
   "cell_type": "code",
   "execution_count": null,
   "id": "29121c2a-cd68-4afc-9bf5-b222f75276b4",
   "metadata": {},
   "outputs": [],
   "source": []
  },
  {
   "cell_type": "code",
   "execution_count": null,
   "id": "c28cad8b-07db-4fe0-9c31-0efa0d3d2cd7",
   "metadata": {},
   "outputs": [],
   "source": []
  },
  {
   "cell_type": "markdown",
   "id": "9bf4ac8c-8439-44fd-b9ee-36407a4b7829",
   "metadata": {},
   "source": [
    "### Mini MNIST"
   ]
  },
  {
   "cell_type": "code",
   "execution_count": 2,
   "id": "a019ad1b-f6f7-46cd-9484-fae524815178",
   "metadata": {},
   "outputs": [],
   "source": [
    "#  загрузим датасет рукописных цифр\n",
    "digits = load_digits()"
   ]
  },
  {
   "cell_type": "code",
   "execution_count": 3,
   "id": "bc01697e-9c33-4fe6-a618-678da0847255",
   "metadata": {},
   "outputs": [
    {
     "name": "stdout",
     "output_type": "stream",
     "text": [
      "Image Data Shape (1797, 64)\n",
      "Label Data Shape (1797,)\n"
     ]
    }
   ],
   "source": [
    "print(\"Image Data Shape\" , digits[\"data\"].shape)\n",
    "print(\"Label Data Shape\", digits[\"target\"].shape)"
   ]
  },
  {
   "cell_type": "code",
   "execution_count": 4,
   "id": "c743d087-fa73-47ba-9f59-ff334351bf41",
   "metadata": {},
   "outputs": [
    {
     "data": {
      "image/png": "[encoded data removed]",
      "text/plain": [
       "<Figure size 1440x288 with 5 Axes>"
      ]
     },
     "metadata": {
      "needs_background": "light"
     },
     "output_type": "display_data"
    }
   ],
   "source": [
    "# посмотрим что за цифры\n",
    "plt.figure(figsize=(20,4))\n",
    "for index, (image, label) in enumerate(zip(digits.data[0:5], digits.target[0:5])):\n",
    "    plt.subplot(1, 5, index + 1)\n",
    "    plt.imshow(np.reshape(image, (8,8)), cmap=plt.cm.gray)\n",
    "    plt.title('Training: %i\\n' % label, fontsize = 20)"
   ]
  },
  {
   "cell_type": "code",
   "execution_count": 5,
   "id": "0409c157-ea47-4f6f-83b5-fd18c424c7b8",
   "metadata": {},
   "outputs": [],
   "source": [
    "#разделим на обучающую/тестовую выборку\n",
    "x_train, x_test, y_train, y_test = train_test_split(digits.data, digits.target, test_size=0.25, random_state=0)"
   ]
  },
  {
   "cell_type": "markdown",
   "id": "1649a3a6-d375-4c58-b045-65fb87593f91",
   "metadata": {},
   "source": [
    "Каждая цифра представлена матрицей черного белого цвета от 0 до 255. Далее матрица растянута в один вектор, так что 1 пиксель представляет 1 признак в объекте картинки. "
   ]
  },
  {
   "cell_type": "markdown",
   "id": "edbae2b3-1636-45e7-bd58-79d6b03bc8f9",
   "metadata": {},
   "source": [
    "Для обучения используем модель из библиотеки sklearn - https://scikit-learn.org/stable/modules/generated/sklearn.linear_model.LogisticRegression.html\n",
    "\n",
    "Тут поддержаны все необходимые типы обучения и гиперпараметры. "
   ]
  },
  {
   "cell_type": "markdown",
   "id": "e837834e-ec1a-43a3-b8f1-f137d575a743",
   "metadata": {},
   "source": [
    "Обучим модель и замерим время обучения. "
   ]
  },
  {
   "cell_type": "code",
   "execution_count": 6,
   "id": "f645712b-ff42-474b-b813-139355495191",
   "metadata": {},
   "outputs": [
    {
     "name": "stdout",
     "output_type": "stream",
     "text": [
      "Sklearn training time:  52.284955978393555\n"
     ]
    }
   ],
   "source": [
    "# сравните с другим методом обучения многоклассовой задачи- ovr\n",
    "log_reg = LogisticRegression(penalty='none', multi_class='multinomial')\n",
    "a = time.time()\n",
    "log_reg.fit(x_train, y_train)\n",
    "b = time.time()\n",
    "print('Sklearn training time: ', (b-a)*1000)"
   ]
  },
  {
   "cell_type": "code",
   "execution_count": 7,
   "id": "e8cd9848-998d-4f0c-9962-08f3d3d9a244",
   "metadata": {
    "tags": []
   },
   "outputs": [
    {
     "name": "stdout",
     "output_type": "stream",
     "text": [
      "Sklearn implementation accuracy:  0.9466666666666667\n"
     ]
    }
   ],
   "source": [
    "# предсказания\n",
    "predictions = log_reg.predict(x_test)\n",
    "accuracy_result = log_reg.score(x_test, y_test)\n",
    "print('Sklearn implementation accuracy: ', accuracy_result)"
   ]
  },
  {
   "cell_type": "code",
   "execution_count": 8,
   "id": "7a144f68-e23a-4b06-9460-c2e6d51e0733",
   "metadata": {},
   "outputs": [],
   "source": [
    "# рассмотрим те объекты где модель ответила верно, а где ошиблась\n",
    "index = 0\n",
    "wrong_examples, true_examples  = [], []\n",
    "for label, predict in zip(y_test, predictions):\n",
    "    if label != predict: \n",
    "        wrong_examples.append(index)\n",
    "    else:\n",
    "        true_examples.append(index)\n",
    "    index +=1    "
   ]
  },
  {
   "cell_type": "code",
   "execution_count": 9,
   "id": "c484be7f-2f39-4f12-a052-15d613959c77",
   "metadata": {},
   "outputs": [
    {
     "data": {
      "image/png": "[encoded data removed]",
      "text/plain": [
       "<Figure size 1440x288 with 5 Axes>"
      ]
     },
     "metadata": {
      "needs_background": "light"
     },
     "output_type": "display_data"
    }
   ],
   "source": [
    "plt.figure(figsize=(20,4))\n",
    "for plot_index, true_index in enumerate(true_examples[0:5]):\n",
    "    plt.subplot(1, 5, plot_index + 1)\n",
    "    plt.imshow(np.reshape(x_test[true_index], (8,8)), cmap=plt.cm.gray)\n",
    "    plt.title(\"Predicted: {}, Actual: {}\".format(predictions[true_index], y_test[true_index]), fontsize = 15)"
   ]
  },
  {
   "cell_type": "code",
   "execution_count": 10,
   "id": "76f0615b-83b7-4aa0-aabb-42b9676bb03d",
   "metadata": {},
   "outputs": [
    {
     "data": {
      "image/png": "[encoded data removed]",
      "text/plain": [
       "<Figure size 1440x288 with 5 Axes>"
      ]
     },
     "metadata": {
      "needs_background": "light"
     },
     "output_type": "display_data"
    }
   ],
   "source": [
    "# посмотрим где модель ошиблась \n",
    "plt.figure(figsize=(20,4))\n",
    "for plot_index, bad_index in enumerate(wrong_examples[0:5]):\n",
    "    plt.subplot(1, 5, plot_index + 1)\n",
    "    plt.imshow(np.reshape(x_test[bad_index], (8,8)), cmap=plt.cm.gray)\n",
    "    plt.title(\"Predicted: {}, Actual: {}\".format(predictions[bad_index], y_test[bad_index]), fontsize = 15)"
   ]
  },
  {
   "cell_type": "code",
   "execution_count": null,
   "id": "5e04e33d-de8b-4807-bfbc-43f519183a2f",
   "metadata": {},
   "outputs": [],
   "source": []
  },
  {
   "cell_type": "code",
   "execution_count": null,
   "id": "74e05f17-2acb-4aaa-94da-2fea660b3a33",
   "metadata": {},
   "outputs": [],
   "source": []
  },
  {
   "cell_type": "markdown",
   "id": "56d98512-799b-47f9-9998-76f66f90e156",
   "metadata": {},
   "source": [
    "### Text classification"
   ]
  },
  {
   "cell_type": "code",
   "execution_count": 11,
   "id": "ddfe71b5-ebcc-48e5-85d4-33182e728b2c",
   "metadata": {},
   "outputs": [],
   "source": [
    "from sklearn.datasets import fetch_20newsgroups\n",
    "\n",
    "# можем ограничить список классов для нашей задачи\n",
    "# categories = ['alt.atheism', 'soc.religion.christian']\n",
    "letter_data = fetch_20newsgroups(subset='train', shuffle=True, random_state=42)"
   ]
  },
  {
   "cell_type": "code",
   "execution_count": 12,
   "id": "7001a7af-8c2a-4f6a-88cd-c2efb8f9a0d2",
   "metadata": {},
   "outputs": [
    {
     "data": {
      "text/plain": [
       "{'alt.atheism',\n",
       " 'comp.graphics',\n",
       " 'comp.os.ms-windows.misc',\n",
       " 'comp.sys.ibm.pc.hardware',\n",
       " 'comp.sys.mac.hardware',\n",
       " 'comp.windows.x',\n",
       " 'misc.forsale',\n",
       " 'rec.autos',\n",
       " 'rec.motorcycles',\n",
       " 'rec.sport.baseball',\n",
       " 'rec.sport.hockey',\n",
       " 'sci.crypt',\n",
       " 'sci.electronics',\n",
       " 'sci.med',\n",
       " 'sci.space',\n",
       " 'soc.religion.christian',\n",
       " 'talk.politics.guns',\n",
       " 'talk.politics.mideast',\n",
       " 'talk.politics.misc',\n",
       " 'talk.religion.misc'}"
      ]
     },
     "execution_count": 12,
     "metadata": {},
     "output_type": "execute_result"
    }
   ],
   "source": [
    "set(letter_data.target_names)"
   ]
  },
  {
   "cell_type": "code",
   "execution_count": 13,
   "id": "d10d15ef-51e8-445c-b1d0-c3458572a1c6",
   "metadata": {
    "tags": []
   },
   "outputs": [
    {
     "name": "stdout",
     "output_type": "stream",
     "text": [
      "From: lerxst@wam.umd.edu (where's my thing)\n",
      "Subject: WHAT car is this!?\n",
      "Nntp-Posting-Host: rac3.wam.umd.edu\n",
      "Organization: University of Maryland, College Park\n",
      "Lines: 15\n",
      "\n",
      " I was wondering if anyone out there could enlighten me on this car I saw\n",
      "the other day. It was a 2-door sports car, looked to be from the late 60s/\n",
      "early 70s. It was called a Bricklin. The doors were really small. In addition,\n",
      "the front bumper was separate from the rest of the body. This is \n",
      "all I know. If anyone can tellme a model name, engine specs, years\n",
      "of production, where this car is made, history, or whatever info you\n",
      "have on this funky looking car, please e-mail.\n",
      "\n",
      "Thanks,\n",
      "- IL\n",
      "   ---- brought to you by your neighborhood Lerxst ----\n",
      "\n",
      "\n",
      "\n",
      "\n",
      "rec.autos\n"
     ]
    }
   ],
   "source": [
    "print(\"\\n\".join(letter_data.data[0].split(\"\\n\")[:20]))\n",
    "print()\n",
    "print(letter_data.target_names[letter_data.target[0]])"
   ]
  },
  {
   "cell_type": "code",
   "execution_count": 14,
   "id": "bff24e13-c0de-4087-bec1-7b274e96cb88",
   "metadata": {},
   "outputs": [],
   "source": [
    "x_train, x_test, y_train, y_test = train_test_split(letter_data['data'], \n",
    "                                                    letter_data['target'], \n",
    "                                                    test_size=0.25, random_state=42)"
   ]
  },
  {
   "cell_type": "markdown",
   "id": "105f3eaf-9ba0-4e64-9c62-90072694ffa5",
   "metadata": {},
   "source": [
    "Для представления списков текста в виде матрицы объекты признаки, воспользуемся простым методом векторизации - CountVectorizer\n",
    "Алгоритм формирования векторного представления такой:\n",
    "\n",
    "1) Собираем множество слов во всем датасете. \n",
    "2) Каждый текст представляем в виде вектора, где каждый индекс - это слово из собранного множества, а значение - количество данного слова в одном тексте. Длина вектора == мощность множества. "
   ]
  },
  {
   "cell_type": "code",
   "execution_count": 15,
   "id": "bd86fc91-de2e-4796-b6b8-b71a11731ca4",
   "metadata": {},
   "outputs": [
    {
     "data": {
      "text/plain": [
       "((8485, 115058), (2829, 115058))"
      ]
     },
     "execution_count": 15,
     "metadata": {},
     "output_type": "execute_result"
    }
   ],
   "source": [
    "from sklearn.feature_extraction.text import CountVectorizer\n",
    "count_vect = CountVectorizer()\n",
    "# метод fit_transform представляет собой сбор множества слов датасет и последующее преобразование выборки\n",
    "X_train_counts = count_vect.fit_transform(x_train)\n",
    "# метод transform строит вектора по построенному множеству\n",
    "X_test_counts = count_vect.transform(x_test)\n",
    "X_train_counts.shape, X_test_counts.shape"
   ]
  },
  {
   "cell_type": "code",
   "execution_count": 16,
   "id": "caa3a62f-845f-45f1-a005-1b8392fa8076",
   "metadata": {},
   "outputs": [
    {
     "name": "stdout",
     "output_type": "stream",
     "text": [
      "Sklearn training time:  18228.661060333252\n"
     ]
    }
   ],
   "source": [
    "log_reg = LogisticRegression(penalty='none', multi_class='multinomial')\n",
    "a = time.time()\n",
    "log_reg.fit(X_train_counts, y_train)\n",
    "b = time.time()\n",
    "print('Sklearn training time: ', (b-a)*1000)"
   ]
  },
  {
   "cell_type": "code",
   "execution_count": 17,
   "id": "5173a7f9-8354-410f-8865-b2ff3cecd752",
   "metadata": {},
   "outputs": [
    {
     "name": "stdout",
     "output_type": "stream",
     "text": [
      "Sklearn implementation accuracy:  0.8536585365853658\n"
     ]
    }
   ],
   "source": [
    "predictions = log_reg.predict(X_test_counts)\n",
    "accuracy_result = log_reg.score(X_test_counts, y_test)\n",
    "print('Sklearn implementation accuracy: ', accuracy_result)"
   ]
  },
  {
   "cell_type": "markdown",
   "id": "6088169e-36f8-4b4c-8693-a31146dcf863",
   "metadata": {},
   "source": [
    "Для анализа ошибок посмотрим на каких примерах ошиблась наша модель."
   ]
  },
  {
   "cell_type": "code",
   "execution_count": 18,
   "id": "bd221f1a-a51f-4b56-8143-4cf6833ce010",
   "metadata": {},
   "outputs": [],
   "source": [
    "index = 0\n",
    "wrong_examples, true_examples  = [], []\n",
    "for label, predict in zip(y_test, predictions):\n",
    "    if label != predict: \n",
    "        wrong_examples.append(index)\n",
    "    else:\n",
    "        true_examples.append(index)\n",
    "    index +=1    "
   ]
  },
  {
   "cell_type": "code",
   "execution_count": 19,
   "id": "2da6e021-a381-4c6b-8d74-2dd72590796c",
   "metadata": {
    "tags": []
   },
   "outputs": [
    {
     "name": "stdout",
     "output_type": "stream",
     "text": [
      "True:  comp.sys.mac.hardware\n",
      "Predicted:  comp.sys.ibm.pc.hardware\n",
      "From: rrn@po.CWRU.Edu (Robert R. Novitskey)\n",
      "Subject: CYCLONE AND TEMPEST?????\n",
      "Article-I.D.: usenet.1pskav$qtu\n",
      "Reply-To: rrn@po.CWRU.Edu (Robert R. Novitskey)\n",
      "Organization: Case Western Reserve University, Cleveland, OH (USA)\n",
      "Lines: 10\n",
      "NNTP-Posting-Host: thor.ins.cwru.edu\n",
      "\n",
      "\n",
      "Could someone please post \n",
      "###################################################\n",
      "True:  comp.sys.mac.hardware\n",
      "Predicted:  rec.autos\n",
      "Organization: Penn State University\n",
      "From: <ACM108@psuvm.psu.edu>\n",
      "Subject: Daystar Turbo 040 Opinions?\n",
      "Lines: 6\n",
      "\n",
      "I'm thinking about upgrading my 030 50MHz to the 040 33version.  Has anyone\n",
      "had any experience with the accelerator, and if so - what do you think?\n",
      "Any problems, what are the speedometer r\n",
      "###################################################\n",
      "True:  soc.religion.christian\n",
      "Predicted:  sci.med\n",
      "From: sml@rpsyc.nott.ac.uk (Steve Lang)\n",
      "Subject: Re: The arrogance of Christians\n",
      "Organization: Nottingham University\n",
      "Lines: 60\n",
      "\n",
      "In article <May.2.09.51.49.1993.11841@geneva.rutgers.edu>, you wrote:\n",
      "\n",
      "> The genius of science is that it discovered that enormous progress \n",
      "> in knowledge could be made by\n",
      "###################################################\n",
      "True:  comp.sys.ibm.pc.hardware\n",
      "Predicted:  comp.windows.x\n",
      "From: L.H.Wood@lut.ac.uk\n",
      "Subject: An 8051 simulator - is example code available?\n",
      "Reply-To: L.H.Wood@lut.ac.uk (Lloyd Wood)\n",
      "Organization: Loughborough University, UK.\n",
      "Lines: 25\n",
      "\n",
      "Hello world,\n",
      " \n",
      "I'm attempting to write an 8051 simulator on an IBM PC for teaching\n",
      "purposes, so that first-year elec-eng st\n",
      "###################################################\n",
      "True:  sci.electronics\n",
      "Predicted:  misc.forsale\n",
      "From: Daniel.J.Stern@dartmouth.edu (Daniel J. Stern)\n",
      "Subject: Seeking info on wear on monitors \n",
      "X-Posted-From: InterNews 1.0b16@dartmouth.edu\n",
      "Organization: Dartmouth College, Hanover, NH\n",
      "Lines: 12\n",
      "\n",
      "We are Dartmouth engineering students.We are looking for documented\n",
      "data regarding the wear associated\n",
      "###################################################\n"
     ]
    }
   ],
   "source": [
    "for idx in wrong_examples[:5]:\n",
    "    print('True: ', letter_data.target_names[y_test[idx]])\n",
    "    print('Predicted: ', letter_data.target_names[predictions[idx]])\n",
    "    print(x_test[idx][:300])\n",
    "    print(\"###################################################\")"
   ]
  }
 ],
 "metadata": {
  "kernelspec": {
   "display_name": "Python 3 (ipykernel)",
   "language": "python",
   "name": "python3"
  },
  "language_info": {
   "codemirror_mode": {
    "name": "ipython",
    "version": 3
   },
   "file_extension": ".py",
   "mimetype": "text/x-python",
   "name": "python",
   "nbconvert_exporter": "python",
   "pygments_lexer": "ipython3",
   "version": "3.9.13"
  }
 },
 "nbformat": 4,
 "nbformat_minor": 5
}
